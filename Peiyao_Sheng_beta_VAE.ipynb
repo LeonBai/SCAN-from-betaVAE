{
 "cells": [
  {
   "cell_type": "markdown",
   "metadata": {
    "colab_type": "text",
    "id": "26ScWNvYSgQg"
   },
   "source": [
    "# Work Dairy\n",
    "\n",
    "* 1219 read papers\n",
    "    * VAE: framework & overall mathematical idea\n",
    "    * beta-VAE: framework derivation & disentanglement metric\n",
    "    * SCAN: disentantglement & hierarchical representation (primitive->concept->relationship)\n",
    "        * every level implements a different version of VAE\n",
    "* 1220 Implement Beta-VAE\n",
    "* 1221 Analyze primitive experiments and write report\n",
    "* to-do:\n",
    "    * train more epochs\n",
    "    * draw correlation curves between latent representations and given factors using better model\n",
    "    * mathematical details of VAE\n",
    "    * implement evaluation of disentanglement metric\n",
    "    * further about SCAN\n",
    "\n",
    "## Implementing Beta-VAE\n",
    "\n",
    "In trying to understand [SCAN](https://openreview.net/pdf?id=rkN2Il-RZ), firstly I learned about and implemented Beta-VAE(Variantional AutoEncoder). The main references are the original [paper](https://openreview.net/forum?id=Sy2fzU9gl), and some codes on Github, [VAE](https://github.com/crcrpar/chainer-VAE).\n",
    "\n",
    "### Preparing Dataset\n",
    "\n",
    "We use [2D Shapes](https://github.com/deepmind/dsprites-dataset) dataset to evaluate the model, under the guidance of dataset example."
   ]
  },
  {
   "cell_type": "code",
   "execution_count": 2,
   "metadata": {
    "cellView": "both",
    "colab": {
     "autoexec": {
      "startup": false,
      "wait_interval": 0
     }
    },
    "colab_type": "code",
    "id": "jJ02BsnqSa96"
   },
   "outputs": [
    {
     "name": "stdout",
     "output_type": "stream",
     "text": [
      "Keys in the dataset: ['metadata', 'imgs', 'latents_classes', 'latents_values']\n"
     ]
    }
   ],
   "source": [
    "from __future__ import absolute_import\n",
    "from __future__ import division\n",
    "from __future__ import print_function\n",
    "from matplotlib import pyplot as plt\n",
    "import numpy as np\n",
    "import seaborn as sns\n",
    "\n",
    "# Change figure aesthetics\n",
    "%matplotlib inline\n",
    "sns.set_context('talk', font_scale=1.2, rc={'lines.linewidth': 1.5})\n",
    "\n",
    "# Load dataset\n",
    "dataset_zip = np.load('dsprites_ndarray_co1sh3sc6or40x32y32_64x64.npz')\n",
    "\n",
    "print('Keys in the dataset:', dataset_zip.keys())\n",
    "imgs = dataset_zip['imgs']\n",
    "latents_values = dataset_zip['latents_values']\n",
    "latents_classes = dataset_zip['latents_classes']\n",
    "metadata = dataset_zip['metadata'][()]\n",
    "\n",
    "# Define number of values per latents and functions to convert to indices\n",
    "latents_sizes = metadata['latents_sizes']\n",
    "latents_bases = np.concatenate((latents_sizes[::-1].cumprod()[::-1][1:],\n",
    "                                np.array([1,])))\n",
    "\n",
    "def latent_to_index(latents):\n",
    "  return np.dot(latents, latents_bases).astype(int)\n",
    "\n",
    "\n",
    "def sample_latent(size=1):\n",
    "  samples = np.zeros((size, latents_sizes.size))\n",
    "  for lat_i, lat_size in enumerate(latents_sizes):\n",
    "    samples[:, lat_i] = np.random.randint(lat_size, size=size)\n",
    "\n",
    "  return samples\n",
    "\n",
    "# Helper function to show images\n",
    "def show_images_grid(imgs_, num_images=25):\n",
    "  ncols = int(np.ceil(num_images**0.5))\n",
    "  nrows = int(np.ceil(num_images / ncols))\n",
    "  _, axes = plt.subplots(ncols, nrows, figsize=(nrows * 3, ncols * 3))\n",
    "  axes = axes.flatten()\n",
    "\n",
    "  for ax_i, ax in enumerate(axes):\n",
    "    if ax_i < num_images:\n",
    "      ax.imshow(imgs_[ax_i], cmap='Greys_r',  interpolation='nearest')\n",
    "      ax.set_xticks([])\n",
    "      ax.set_yticks([])\n",
    "    else:\n",
    "      ax.axis('off')\n",
    "\n",
    "def show_density(imgs):\n",
    "  _, ax = plt.subplots()\n",
    "  ax.imshow(imgs.mean(axis=0), interpolation='nearest', cmap='Greys_r')\n",
    "  ax.grid('off')\n",
    "  ax.set_xticks([])\n",
    "  ax.set_yticks([])"
   ]
  },
  {
   "cell_type": "markdown",
   "metadata": {},
   "source": [
    "### Setting Environment "
   ]
  },
  {
   "cell_type": "code",
   "execution_count": 7,
   "metadata": {
    "colab": {
     "autoexec": {
      "startup": false,
      "wait_interval": 0
     }
    },
    "colab_type": "code",
    "id": "9RWpIJtiHYUL"
   },
   "outputs": [],
   "source": [
    "import torch\n",
    "import torch.utils.data\n",
    "from torch import nn, optim\n",
    "from torch.autograd import Variable\n",
    "from torch.nn import functional as F\n",
    "from torchvision import datasets, transforms\n",
    "from torchvision.utils import save_image\n",
    "import tensordataset\n",
    "import os\n",
    "\n",
    "os.system('mkdir results && mkdir save_models')\n",
    "\n",
    "torch.manual_seed(1)\n",
    "batch_size = 128\n",
    "log_interval = 10\n",
    "epochs = 100\n",
    "VAE_beta = 4.0\n",
    "\n",
    "# Sample latents randomly\n",
    "latents_train = sample_latent(size=5000)\n",
    "latents_test = sample_latent(size=1000)\n",
    "\n",
    "# Select images\n",
    "imgs_train = imgs[latent_to_index(latents_train)]\n",
    "imgs_test = imgs[latent_to_index(latents_test)]\n",
    "\n",
    "train_dataset = tensordataset.TensorDataset(torch.from_numpy(imgs_train).type(torch.FloatTensor))\n",
    "test_dataset = tensordataset.TensorDataset(torch.from_numpy(imgs_test).type(torch.FloatTensor))\n",
    "train_loader = torch.utils.data.DataLoader(train_dataset, batch_size=batch_size, shuffle=True, drop_last=True)\n",
    "test_loader = torch.utils.data.DataLoader(test_dataset, batch_size=batch_size, shuffle=True, drop_last=True)\n",
    "\n",
    "\n"
   ]
  },
  {
   "cell_type": "markdown",
   "metadata": {},
   "source": [
    "### Network Framework\n",
    "Input: 4096 (ﬂattened 64x64x1).\n",
    "\n",
    "Encoder: FC 1200, 1200. ReLU activation.\n",
    "\n",
    "Latents: 10\n",
    "\n",
    "Decoder: FC 1200, 1200, 1200, 4096. Tanh activation. Bernoulli."
   ]
  },
  {
   "cell_type": "code",
   "execution_count": 8,
   "metadata": {},
   "outputs": [],
   "source": [
    "class VAE(nn.Module):\n",
    "    def __init__(self, imgSize=64*64):\n",
    "        super(VAE, self).__init__()\n",
    "\n",
    "        self.fc1 = nn.Linear(imgSize, 1200)\n",
    "        self.fc2 = nn.Linear(1200, 1200)\n",
    "        self.fc21 = nn.Linear(1200, 10)\n",
    "        self.fc22 = nn.Linear(1200, 10)\n",
    "        self.fc3 = nn.Linear(10, 1200)\n",
    "        self.fc4 = nn.Linear(1200, 1200)\n",
    "        self.fc5 = nn.Linear(1200,1200)\n",
    "        self.fc6 = nn.Linear(1200,imgSize)\n",
    "        \n",
    "\n",
    "        self.relu = nn.ReLU()\n",
    "        self.tanh = nn.Tanh()\n",
    "        self.sigmoid = nn.Sigmoid()\n",
    "        self.imgSize = imgSize\n",
    "\n",
    "    def encode(self, x):\n",
    "        h1 = self.relu(self.fc1(x))\n",
    "        h2 = self.relu(self.fc2(h1))\n",
    "        return self.fc21(h2), self.fc22(h2)\n",
    "\n",
    "    def reparameterize(self, mu, logvar):\n",
    "        if self.training:\n",
    "          std = logvar.mul(0.5).exp_()\n",
    "          eps = Variable(std.data.new(std.size()).normal_())\n",
    "          return eps.mul(std).add_(mu)\n",
    "        else:\n",
    "          return mu\n",
    "\n",
    "    def decode(self, z):\n",
    "        h3 = self.tanh(self.fc3(z))\n",
    "        h4 = self.tanh(self.fc4(h3))\n",
    "        h5 = self.tanh(self.fc5(h4))\n",
    "        return self.sigmoid(self.fc6(h3))\n",
    "\n",
    "    def forward(self, x):\n",
    "        mu, logvar = self.encode(x.view(-1, self.imgSize))\n",
    "        z = self.reparameterize(mu, logvar)\n",
    "        return self.decode(z), mu, logvar\n",
    "\n",
    "def loss_function(recon_x, x, mu, logvar, beta=VAE_beta, imgSize=4096):\n",
    "    BCE = F.binary_cross_entropy(recon_x, x.view(-1, imgSize))\n",
    "\n",
    "    # see Appendix B from VAE paper:\n",
    "    # Kingma and Welling. Auto-Encoding Variational Bayes. ICLR, 2014\n",
    "    # https://arxiv.org/abs/1312.6114\n",
    "    # 0.5 * sum(1 + log(sigma^2) - mu^2 - sigma^2)\n",
    "    KLD = -0.5 * torch.sum(1 + logvar - mu.pow(2) - logvar.exp())\n",
    "    # Normalise by same number of elements as in reconstruction\n",
    "    KLD /= batch_size * imgSize\n",
    "\n",
    "    return BCE + beta * KLD"
   ]
  },
  {
   "cell_type": "markdown",
   "metadata": {},
   "source": [
    "### Training the model\n",
    "\n",
    "After training 100 epochs, the generator seems to know how to reconstruct position and rotation, but not so good at shapes, especially for hearts. I'm going to train more epochs for convergence."
   ]
  },
  {
   "cell_type": "code",
   "execution_count": 11,
   "metadata": {},
   "outputs": [
    {
     "name": "stdout",
     "output_type": "stream",
     "text": [
      "Train Epoch: 1 [0/5000 (0%)]\tLoss: 0.005500\n",
      "Train Epoch: 1 [1280/5000 (26%)]\tLoss: 0.001195\n",
      "Train Epoch: 1 [2560/5000 (51%)]\tLoss: 0.000977\n",
      "Train Epoch: 1 [3840/5000 (77%)]\tLoss: 0.000831\n",
      "====> Epoch: 1 Average loss: 0.0032\n",
      "====> Test set loss: 0.0005\n"
     ]
    },
    {
     "data": {
      "image/png": "[encoded data removed]",
      "text/plain": [
       "<IPython.core.display.Image object>"
      ]
     },
     "execution_count": 11,
     "metadata": {},
     "output_type": "execute_result"
    }
   ],
   "source": [
    "from IPython.display import Image\n",
    "\n",
    "model = VAE()\n",
    "optimizer = optim.Adagrad(model.parameters(), lr=1e-2)\n",
    "\n",
    "\n",
    "def train(epoch):\n",
    "    model.train()\n",
    "    train_loss = 0\n",
    "    for batch_idx, data in enumerate(train_loader):\n",
    "        data = Variable(data)\n",
    "        optimizer.zero_grad()\n",
    "        recon_batch, mu, logvar = model(data)\n",
    "        loss = loss_function(recon_batch, data, mu, logvar)\n",
    "        loss.backward()\n",
    "        train_loss += loss.data[0]\n",
    "        optimizer.step()\n",
    "        if batch_idx % log_interval == 0:\n",
    "            print('Train Epoch: {} [{}/{} ({:.0f}%)]\\tLoss: {:.6f}'.format(\n",
    "                epoch, batch_idx * len(data), len(train_loader.dataset),\n",
    "                100. * batch_idx / len(train_loader),\n",
    "                loss.data[0] / len(data)))\n",
    "\n",
    "    print('====> Epoch: {} Average loss: {:.4f}'.format(\n",
    "          epoch, train_loss / len(train_loader.dataset)))\n",
    "\n",
    "\n",
    "def test(epoch):\n",
    "    model.eval()\n",
    "    test_loss = 0\n",
    "    for i, data in enumerate(test_loader):\n",
    "        data = Variable(data, volatile=True)\n",
    "        recon_batch, mu, logvar = model(data)\n",
    "        test_loss += loss_function(recon_batch, data, mu, logvar, 0.5).data[0]\n",
    "        if i == 0:\n",
    "          n = min(data.size(0), 8)\n",
    "          comparison = torch.cat([data[:n].resize(n,1,64,64),\n",
    "                                  recon_batch.view(batch_size, 1, 64, 64)[:n]])\n",
    "          save_image(comparison.data.cpu(),\n",
    "                     'results/reconstruction_' + str(epoch) + '.png', nrow=n)\n",
    "\n",
    "    test_loss /= len(test_loader.dataset)\n",
    "    print('====> Test set loss: {:.4f}'.format(test_loss))\n",
    "\n",
    "\n",
    "for epoch in range(1, 1 + 1):\n",
    "    train(epoch)\n",
    "    test(epoch)\n",
    "    sample = Variable(torch.randn(64, 10))\n",
    "    sample = model.decode(sample).cpu()\n",
    "    save_image(sample.data.view(64, 1, 64, 64),\n",
    "               'results/sample_' + str(epoch) + '.png')\n",
    "    \n",
    "    torch.save(model.state_dict(), '{0}/model_epoch_{1}.pth'.format('save_models/', epoch))\n",
    "\n",
    "#Image('reconstruction_99.png')\n",
    "\n",
    "Image('reconstruction_98.png')"
   ]
  },
  {
   "cell_type": "markdown",
   "metadata": {},
   "source": [
    "### Representations learnt by Beta-VAE\n",
    "\n",
    "This part shows the results about the correlation between latent factors and representations learnt by model just like Figure6 in paper. We can sort the latent vectors by different dimensions to see what each latent $z_i$ represents.\n",
    "\n",
    "According to the paper, we can visualize the images fixed on several latent values. The results of fixing POS_X, POS_Y, Scale, Rotation are as follows.\n",
    "\n",
    "I'm going to draw correlation curves after training a better model.\n",
    "\n"
   ]
  },
  {
   "cell_type": "code",
   "execution_count": 13,
   "metadata": {},
   "outputs": [],
   "source": [
    "eval_model = VAE()\n",
    "eval_model.load_state_dict(torch.load('model_epoch_99.pth'))"
   ]
  },
  {
   "cell_type": "code",
   "execution_count": 14,
   "metadata": {},
   "outputs": [
    {
     "name": "stdout",
     "output_type": "stream",
     "text": [
      "Variable containing:\n",
      " 0.6796  0.0160  0.0348  0.4994  0.0787  0.1126  0.0865  0.0198  0.3002  0.0261\n",
      "[torch.FloatTensor of size 1x10]\n",
      "\n"
     ]
    },
    {
     "data": {
      "image/png": "[encoded data removed]",
      "text/plain": [
       "<IPython.core.display.Image object>"
      ]
     },
     "execution_count": 14,
     "metadata": {},
     "output_type": "execute_result"
    }
   ],
   "source": [
    "from IPython.display import Image\n",
    "def fix_and_show(fix_dim=-2, fix_setting=0, latent_idx=6):\n",
    "    ## Fix posX latent to left\n",
    "    latents_sampled = sample_latent(size=64)\n",
    "    latents_sampled[:, fix_dim] = fix_setting\n",
    "    indices_sampled = latent_to_index(latents_sampled)\n",
    "    imgs_sampled = imgs[indices_sampled]\n",
    "\n",
    "    imgs_sampled = Variable(torch.from_numpy(imgs_sampled).type(torch.FloatTensor), volatile=True)\n",
    "\n",
    "    mu, logvar = eval_model.encode(imgs_sampled.view(-1, 64*64))\n",
    "\n",
    "    a = mu.data.numpy()\n",
    "    a_arg = np.argsort(a[:, latent_idx+1])\n",
    "    a = a[a_arg]\n",
    "    z = eval_model.reparameterize(mu, logvar)\n",
    "\n",
    "    samples = eval_model.decode(z)\n",
    "    samples = torch.from_numpy(samples.data.numpy()[a_arg])\n",
    "    save_image(samples.view(64, 1, 64, 64),'eval_samples.png')\n",
    "\n",
    "fix_and_show(3,0,6)\n",
    "\n",
    "def fix_and_traverse():\n",
    "    results = torch.FloatTensor(50,1,64,64).zero_()\n",
    "    latent_sampled = sample_latent(size=1)\n",
    "    #print(latent_sampled)\n",
    "    indice_sampled = latent_to_index(latent_sampled)\n",
    "    img_sampled = imgs[indice_sampled]\n",
    "    img_sampled = Variable(torch.from_numpy(img_sampled).type(torch.FloatTensor), volatile=True)\n",
    "    mu, logvar = eval_model.encode(img_sampled.view(-1, 64*64))\n",
    "    z = eval_model.reparameterize(mu, logvar)\n",
    "    #print(logvar)\n",
    "    origin_z = z.data.clone()\n",
    "    for i,(fixed_dim, k) in enumerate(zip(range(10), range(40,50))):\n",
    "        z = Variable(origin_z.clone())\n",
    "        for mean in range(-2,3):\n",
    "            z = eval_model.reparameterize(mu, logvar)\n",
    "            z_revise = eval_model.reparameterize(mean*mu, logvar)\n",
    "            z[0,fixed_dim] = z_revise[0,fixed_dim]\n",
    "            sample = eval_model.decode(z)\n",
    "            results[k] = sample.data.view(-1,64,64)\n",
    "            k -= 10\n",
    "    save_image(results,'traverse.png',nrow=10)\n",
    "    print(logvar.exp())\n",
    "            \n",
    "        \n",
    "fix_and_traverse()       \n",
    "#Image(filename='traverse.png')\n",
    "Image(filename='eval_samples.png')"
   ]
  },
  {
   "cell_type": "markdown",
   "metadata": {},
   "source": [
    "### Appendix\n",
    "\n",
    "Some other tries for experiments.\n",
    "\n",
    "#### EMNIST Dataset\n",
    "\n",
    "To verify the effect of model, as first I tested its results on EMNIST Dataset.\n",
    "\n",
    "Due to the size of dataset, downloading may take time, we can just see the results for the training process is similar with previous one."
   ]
  },
  {
   "cell_type": "code",
   "execution_count": null,
   "metadata": {},
   "outputs": [],
   "source": [
    "import newdatasets\n",
    "train_loader = torch.utils.data.DataLoader(\n",
    "    newdatasets.EMNIST('../data_emnist/', split='letters', train=True, download=True,\n",
    "                   transform=transforms.ToTensor()),\n",
    "    batch_size=args.batch_size, shuffle=True, drop_last=True, **kwargs)\n",
    "test_loader = torch.utils.data.DataLoader(\n",
    "    newdatasets.EMNIST('../data_emnist/', split='letters', train=False, transform=transforms.ToTensor()),\n",
    "    batch_size=args.batch_size, shuffle=True, drop_last=True, **kwargs)\n",
    "\n",
    "model = VAE(28*28)\n",
    "\n",
    "for epoch in range(1, epochs + 1):\n",
    "    train(epoch)\n",
    "    test(epoch)\n",
    "    sample = Variable(torch.randn(64, 10))\n",
    "    sample = model.decode(sample).cpu()\n",
    "    save_image(sample.data.view(64, 1, 28, 28),\n",
    "               'results_emnist/sample_' + str(epoch) + '.png')\n",
    "    \n",
    "    torch.save(model.state_dict(), '{0}/model_epoch_{1}.pth'.format('save_models_emnist/', epoch))"
   ]
  },
  {
   "cell_type": "markdown",
   "metadata": {},
   "source": [
    "#### Results "
   ]
  },
  {
   "cell_type": "code",
   "execution_count": 19,
   "metadata": {},
   "outputs": [
    {
     "data": {
      "image/png": "[encoded data removed]",
      "text/plain": [
       "<IPython.core.display.Image object>"
      ]
     },
     "execution_count": 19,
     "metadata": {},
     "output_type": "execute_result"
    }
   ],
   "source": [
    "from IPython.display import Image\n",
    "\n",
    "Image(filename='reconstruction_letters_92.png') "
   ]
  },
  {
   "cell_type": "markdown",
   "metadata": {
    "collapsed": true
   },
   "source": [
    "#### Notes: evaluation method with disentanglement metric"
   ]
  },
  {
   "cell_type": "markdown",
   "metadata": {},
   "source": [
    "Pseudocode of Equation(5)\n",
    "```\n",
    "for l:= 1 to L\n",
    "    for y:= 1 to K\n",
    "        for (v[i,y] = v[j,y]):= 1 to size_of_y\n",
    "            for every sample pair VAE(v[i], v[j]) -> x[i],x[j]\n",
    "                compute z_diff += |mu(x[i]),mu(x[j])|\n",
    "z_diff /= L\n",
    "classify z_diff\n",
    "```\n",
    "* 10 replices (different random seeds) -> disentangled representations\n",
    "    * 3 times: factor change classification algorithom (different random seeds)"
   ]
  }
 ],
 "metadata": {
  "colab": {
   "default_view": {},
   "last_runtime": {
    "build_target": "",
    "kind": "local"
   },
   "name": "deepmind_2d_shapes_dataset_public.ipynb",
   "provenance": [
    {
     "file_id": "/piper/depot/google3/experimental/deepmind/concepts/dataset2dshapes/public/deepmind_2d_shapes_dataset.ipynb?workspaceId=lmatthey:lmatthey-2dshapes-dataset:580:citc",
     "timestamp": 1493149332589
    },
    {
     "file_id": "0BxLiVtkN33-wbmVnbVQwcUhjY0U",
     "timestamp": 1493149291483
    }
   ],
   "version": "0.3.2",
   "views": {}
  },
  "kernelspec": {
   "display_name": "Python 2",
   "language": "python",
   "name": "python2"
  },
  "language_info": {
   "codemirror_mode": {
    "name": "ipython",
    "version": 2
   },
   "file_extension": ".py",
   "mimetype": "text/x-python",
   "name": "python",
   "nbconvert_exporter": "python",
   "pygments_lexer": "ipython2",
   "version": "2.7.13"
  }
 },
 "nbformat": 4,
 "nbformat_minor": 1
}
